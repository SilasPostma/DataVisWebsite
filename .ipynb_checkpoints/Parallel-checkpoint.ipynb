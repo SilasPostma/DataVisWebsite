{
 "cells": [
  {
   "cell_type": "code",
   "execution_count": 153,
   "id": "ededd7bd-9fc9-4cd3-9165-0054d8d4eb80",
   "metadata": {
    "jupyter": {
     "source_hidden": true
    }
   },
   "outputs": [
    {
     "data": {
      "text/html": [
       "        <script type=\"text/javascript\">\n",
       "        window.PlotlyConfig = {MathJaxConfig: 'local'};\n",
       "        if (window.MathJax && window.MathJax.Hub && window.MathJax.Hub.Config) {window.MathJax.Hub.Config({SVG: {font: \"STIX-Web\"}});}\n",
       "        if (typeof require !== 'undefined') {\n",
       "        require.undef(\"plotly\");\n",
       "        requirejs.config({\n",
       "            paths: {\n",
       "                'plotly': ['https://cdn.plot.ly/plotly-2.12.1.min']\n",
       "            }\n",
       "        });\n",
       "        require(['plotly'], function(Plotly) {\n",
       "            window._Plotly = Plotly;\n",
       "        });\n",
       "        }\n",
       "        </script>\n",
       "        "
      ]
     },
     "metadata": {},
     "output_type": "display_data"
    }
   ],
   "source": [
    "import plotly.graph_objs as go\n",
    "import plotly.express as px\n",
    "import pandas as pd\n",
    "\n",
    "from plotly.offline import init_notebook_mode\n",
    "init_notebook_mode(connected=True)"
   ]
  },
  {
   "cell_type": "code",
   "execution_count": 155,
   "id": "08be895b-8cc8-4faf-a8e2-d99d0fb43b24",
   "metadata": {
    "jupyter": {
     "source_hidden": true
    }
   },
   "outputs": [],
   "source": [
    "urban_percent_df = pd.read_csv('urban_data_percent.csv')\n",
    "#urban_percent_df.head()\n",
    "urban_percent_change_df = pd.read_csv('Urban_data_percent_change.csv')\n",
    "#urban_percent_change_df.head()\n",
    "gdp_df = pd.read_csv('pivoted_gdp_per_capita.csv')\n",
    "#gpd_df.head()"
   ]
  },
  {
   "cell_type": "code",
   "execution_count": 157,
   "id": "83eaecc2-25f5-402d-8f80-d97bc4ad224b",
   "metadata": {
    "jupyter": {
     "source_hidden": true
    }
   },
   "outputs": [],
   "source": [
    "merged_df = pd.merge(gdp_df, urban_percent_df, left_on='Entity', right_on='Region, subregion, country or area')\n",
    "merged_df = pd.merge(merged_df, urban_percent_change_df, left_on='Entity', right_on='Region, subregion, country or area')"
   ]
  },
  {
   "cell_type": "code",
   "execution_count": 159,
   "id": "2b7adea4-7e07-4bbd-8e2c-9f977ea78d86",
   "metadata": {
    "jupyter": {
     "source_hidden": true
    }
   },
   "outputs": [],
   "source": [
    "merged_df['2000_y'] = merged_df['2000_y'].str.replace(',', '.')\n",
    "merged_df['2000_y'] = pd.to_numeric(merged_df['2000_y'], errors='coerce')\n",
    "\n",
    "merged_df['2000-2005'] = merged_df['2000-2005'].str.replace(',', '.')\n",
    "merged_df['2000-2005'] = pd.to_numeric(merged_df['2000-2005'], errors='coerce')"
   ]
  },
  {
   "cell_type": "markdown",
   "id": "9c4639b1-0c6f-4f62-ac1e-9327929307d1",
   "metadata": {},
   "source": [
    "### Preprocessing\n",
    "\n",
    "To compare the income category and urban population of a nation, the following datasets were used:\n",
    "- *'Percentage of Population at Mid-Year Residing in Urban Areas by region, subregion, and country, 1950-2050'* by the United Nations.\n",
    "- *'Average Annual Rate of Change of the Urban Population by region, subregion, and country, 1950-2050 (percent)'* by the United Nations.\n",
    "- *'GDP per capita'* from Our World in Data.\n",
    "\n",
    "Steps taken during preprocessing:\n",
    "- The datasets by the UN both had a title and description at the top, complicating their usage. Hence, both were removed.\n",
    "- The data was in the European notation for decimals, meaning the commas were replaced with dots and converted back to integers.\n",
    "- In the third dataset, all the data was put in rows instead of an easily usable table. The dataset was pivoted relative to the *'Entity'* row.\n",
    "\n",
    "Finally, all datasets were merged into a single dataset to be analyzed. They were merged using *'Region, subregion, country or area'* for the UN datasets, and *'Entity'* for the *Our World in Data* dataset."
   ]
  },
  {
   "cell_type": "markdown",
   "id": "14750532-7c06-4ea5-8356-ca54fbe3bad5",
   "metadata": {},
   "source": [
    "### Does urbanisation lead to wealth\n",
    "\n",
    "An idea that many people share of less developed countries is that the population of those countries mainly live on farms, in smaller villages, etc. More wealthy countries seem to invest more in their cities; building skyscrapers, investing in universities, and creating large suburbs. This idea would favor the pro-urbanisation side of this debate. To put this to the test, the percentage of the population living in urban areas is compared to the GDP category. GDP stands for 'gross domestic product', and is an accessible way to compare the wealth of nations and regions. For this graph the countries have been split up into quartiles."
   ]
  },
  {
   "cell_type": "code",
   "execution_count": 271,
   "id": "30150b1f-0d60-4feb-8cca-53bdc1e9dd65",
   "metadata": {},
   "outputs": [
    {
     "data": {
      "application/vnd.plotly.v1+json": {
       "config": {
        "plotlyServerURL": "https://plot.ly"
       },
       "data": [
        {
         "dimensions": [
          {
           "categoryarray": [
            "0-25%",
            "26-50%",
            "51-75%",
            "76-100%"
           ],
           "categoryorder": "array",
           "label": "Urban Population",
           "values": [
            "26-50%",
            "51-75%",
            "26-50%",
            "76-100%",
            "76-100%",
            "26-50%",
            "76-100%",
            "26-50%",
            "76-100%",
            "76-100%",
            "0-25%",
            "76-100%",
            "26-50%",
            "26-50%",
            "0-25%",
            "26-50%",
            "51-75%",
            "76-100%",
            "26-50%",
            "0-25%",
            "0-25%",
            "0-25%",
            "26-50%",
            "76-100%",
            "76-100%",
            "26-50%",
            "0-25%",
            "76-100%",
            "26-50%",
            "51-75%",
            "0-25%",
            "51-75%",
            "51-75%",
            "51-75%",
            "51-75%",
            "76-100%",
            "76-100%",
            "51-75%",
            "51-75%",
            "51-75%",
            "26-50%",
            "51-75%",
            "26-50%",
            "0-25%",
            "26-50%",
            "76-100%",
            "76-100%",
            "76-100%",
            "26-50%",
            "76-100%",
            "26-50%",
            "51-75%",
            "26-50%",
            "26-50%",
            "0-25%",
            "26-50%",
            "26-50%",
            "26-50%",
            "51-75%",
            "76-100%",
            "0-25%",
            "26-50%",
            "51-75%",
            "51-75%",
            "76-100%",
            "51-75%",
            "26-50%",
            "76-100%",
            "76-100%",
            "51-75%",
            "0-25%",
            "76-100%",
            "26-50%",
            "76-100%",
            "0-25%",
            "26-50%",
            "76-100%",
            "0-25%",
            "0-25%",
            "51-75%",
            "0-25%",
            "0-25%",
            "76-100%",
            "26-50%",
            "26-50%",
            "51-75%",
            "51-75%",
            "51-75%",
            "0-25%",
            "51-75%",
            "0-25%",
            "0-25%",
            "0-25%",
            "0-25%",
            "76-100%",
            "76-100%",
            "51-75%",
            "0-25%",
            "0-25%",
            "76-100%",
            "51-75%",
            "0-25%",
            "51-75%",
            "51-75%",
            "51-75%",
            "26-50%",
            "51-75%",
            "76-100%",
            "0-25%",
            "0-25%",
            "26-50%",
            "51-75%",
            "76-100%",
            "26-50%",
            "26-50%",
            "26-50%",
            "76-100%",
            "26-50%",
            "51-75%",
            "76-100%",
            "0-25%",
            "0-25%",
            "51-75%",
            "76-100%",
            "51-75%",
            "0-25%",
            "0-25%",
            "0-25%",
            "51-75%",
            "51-75%",
            "51-75%",
            "26-50%",
            "0-25%",
            "76-100%",
            "76-100%",
            "76-100%",
            "26-50%",
            "0-25%",
            "0-25%",
            "0-25%"
           ]
          },
          {
           "categoryarray": [
            "0-25%",
            "26-50%",
            "51-75%",
            "76-100%"
           ],
           "categoryorder": "array",
           "label": "GDP Category",
           "values": [
            "26-50%",
            "51-75%",
            "0-25%",
            "76-100%",
            "51-75%",
            "76-100%",
            "76-100%",
            "26-50%",
            "76-100%",
            "76-100%",
            "0-25%",
            "76-100%",
            "26-50%",
            "0-25%",
            "26-50%",
            "26-50%",
            "51-75%",
            "51-75%",
            "76-100%",
            "0-25%",
            "0-25%",
            "0-25%",
            "0-25%",
            "76-100%",
            "76-100%",
            "0-25%",
            "0-25%",
            "51-75%",
            "26-50%",
            "51-75%",
            "26-50%",
            "26-50%",
            "51-75%",
            "51-75%",
            "76-100%",
            "76-100%",
            "26-50%",
            "51-75%",
            "51-75%",
            "26-50%",
            "26-50%",
            "0-25%",
            "51-75%",
            "0-25%",
            "26-50%",
            "76-100%",
            "76-100%",
            "51-75%",
            "26-50%",
            "76-100%",
            "26-50%",
            "76-100%",
            "51-75%",
            "26-50%",
            "26-50%",
            "0-25%",
            "0-25%",
            "26-50%",
            "51-75%",
            "76-100%",
            "0-25%",
            "26-50%",
            "51-75%",
            "76-100%",
            "76-100%",
            "76-100%",
            "26-50%",
            "76-100%",
            "26-50%",
            "26-50%",
            "0-25%",
            "76-100%",
            "0-25%",
            "26-50%",
            "0-25%",
            "0-25%",
            "76-100%",
            "0-25%",
            "0-25%",
            "51-75%",
            "51-75%",
            "0-25%",
            "76-100%",
            "26-50%",
            "51-75%",
            "51-75%",
            "26-50%",
            "51-75%",
            "76-100%",
            "26-50%",
            "0-25%",
            "0-25%",
            "26-50%",
            "0-25%",
            "76-100%",
            "76-100%",
            "26-50%",
            "0-25%",
            "0-25%",
            "76-100%",
            "51-75%",
            "26-50%",
            "51-75%",
            "26-50%",
            "26-50%",
            "26-50%",
            "76-100%",
            "76-100%",
            "0-25%",
            "51-75%",
            "51-75%",
            "0-25%",
            "51-75%",
            "26-50%",
            "51-75%",
            "0-25%",
            "76-100%",
            "51-75%",
            "51-75%",
            "76-100%",
            "26-50%",
            "0-25%",
            "51-75%",
            "76-100%",
            "76-100%",
            "0-25%",
            "51-75%",
            "0-25%",
            "51-75%",
            "51-75%",
            "51-75%",
            "51-75%",
            "0-25%",
            "76-100%",
            "76-100%",
            "51-75%",
            "26-50%",
            "0-25%",
            "0-25%",
            "26-50%"
           ]
          },
          {
           "categoryarray": [
            "76-100%",
            "51-75%",
            "26-50%",
            "0-25%"
           ],
           "categoryorder": "array",
           "label": "Urban Population Change",
           "values": [
            "26-50%",
            "51-75%",
            "76-100%",
            "51-75%",
            "0-25%",
            "0-25%",
            "0-25%",
            "26-50%",
            "26-50%",
            "76-100%",
            "76-100%",
            "0-25%",
            "51-75%",
            "76-100%",
            "76-100%",
            "0-25%",
            "51-75%",
            "26-50%",
            "51-75%",
            "76-100%",
            "76-100%",
            "51-75%",
            "76-100%",
            "0-25%",
            "51-75%",
            "26-50%",
            "76-100%",
            "0-25%",
            "76-100%",
            "26-50%",
            "26-50%",
            "51-75%",
            "51-75%",
            "0-25%",
            "26-50%",
            "0-25%",
            "26-50%",
            "0-25%",
            "51-75%",
            "26-50%",
            "26-50%",
            "26-50%",
            "76-100%",
            "76-100%",
            "0-25%",
            "0-25%",
            "0-25%",
            "51-75%",
            "76-100%",
            "0-25%",
            "76-100%",
            "0-25%",
            "0-25%",
            "51-75%",
            "51-75%",
            "51-75%",
            "76-100%",
            "51-75%",
            "0-25%",
            "0-25%",
            "51-75%",
            "51-75%",
            "51-75%",
            "26-50%",
            "26-50%",
            "0-25%",
            "0-25%",
            "26-50%",
            "51-75%",
            "0-25%",
            "76-100%",
            "26-50%",
            "0-25%",
            "76-100%",
            "51-75%",
            "51-75%",
            "26-50%",
            "76-100%",
            "51-75%",
            "51-75%",
            "76-100%",
            "76-100%",
            "0-25%",
            "76-100%",
            "0-25%",
            "26-50%",
            "51-75%",
            "26-50%",
            "76-100%",
            "26-50%",
            "51-75%",
            "26-50%",
            "76-100%",
            "76-100%",
            "26-50%",
            "26-50%",
            "26-50%",
            "51-75%",
            "76-100%",
            "0-25%",
            "26-50%",
            "51-75%",
            "51-75%",
            "51-75%",
            "26-50%",
            "26-50%",
            "26-50%",
            "76-100%",
            "76-100%",
            "0-25%",
            "0-25%",
            "76-100%",
            "51-75%",
            "51-75%",
            "26-50%",
            "76-100%",
            "51-75%",
            "0-25%",
            "26-50%",
            "26-50%",
            "0-25%",
            "51-75%",
            "0-25%",
            "0-25%",
            "0-25%",
            "26-50%",
            "76-100%",
            "76-100%",
            "0-25%",
            "26-50%",
            "51-75%",
            "26-50%",
            "76-100%",
            "76-100%",
            "0-25%",
            "0-25%",
            "51-75%",
            "76-100%",
            "76-100%",
            "26-50%"
           ]
          }
         ],
         "line": {
          "color": [
           1,
           2,
           1,
           3,
           3,
           1,
           3,
           1,
           3,
           3,
           0,
           3,
           1,
           1,
           0,
           1,
           2,
           3,
           1,
           0,
           0,
           0,
           1,
           3,
           3,
           1,
           0,
           3,
           1,
           2,
           0,
           2,
           2,
           2,
           2,
           3,
           3,
           2,
           2,
           2,
           1,
           2,
           1,
           0,
           1,
           3,
           3,
           3,
           1,
           3,
           1,
           2,
           1,
           1,
           0,
           1,
           1,
           1,
           2,
           3,
           0,
           1,
           2,
           2,
           3,
           2,
           1,
           3,
           3,
           2,
           0,
           3,
           1,
           3,
           0,
           1,
           3,
           0,
           0,
           2,
           0,
           0,
           3,
           1,
           1,
           2,
           2,
           2,
           0,
           2,
           0,
           0,
           0,
           0,
           3,
           3,
           2,
           0,
           0,
           3,
           2,
           0,
           2,
           2,
           2,
           1,
           2,
           3,
           0,
           0,
           1,
           2,
           3,
           1,
           1,
           1,
           3,
           1,
           2,
           3,
           0,
           0,
           2,
           3,
           2,
           0,
           0,
           0,
           2,
           2,
           2,
           1,
           0,
           3,
           3,
           3,
           1,
           0,
           0,
           0
          ],
          "colorscale": [
           [
            0,
            "#ffbe0b"
           ],
           [
            0.25,
            "#fb5607"
           ],
           [
            0.5,
            "#ff006e"
           ],
           [
            0.75,
            "#8338ec"
           ],
           [
            1,
            "#3a86ff"
           ]
          ],
          "shape": "hspline"
         },
         "type": "parcats"
        }
       ],
       "layout": {
        "annotations": [
         {
          "font": {
           "color": "black",
           "size": 12
          },
          "showarrow": false,
          "text": "<span style='font-style: italic;'>Note: catogories are based on distribution, not the actual percentages from the data.</span>",
          "textangle": 0,
          "x": 0.045,
          "xanchor": "left",
          "xref": "paper",
          "y": -0.12,
          "yref": "paper"
         }
        ],
        "autosize": true,
        "template": {
         "data": {
          "bar": [
           {
            "error_x": {
             "color": "#2a3f5f"
            },
            "error_y": {
             "color": "#2a3f5f"
            },
            "marker": {
             "line": {
              "color": "#E5ECF6",
              "width": 0.5
             },
             "pattern": {
              "fillmode": "overlay",
              "size": 10,
              "solidity": 0.2
             }
            },
            "type": "bar"
           }
          ],
          "barpolar": [
           {
            "marker": {
             "line": {
              "color": "#E5ECF6",
              "width": 0.5
             },
             "pattern": {
              "fillmode": "overlay",
              "size": 10,
              "solidity": 0.2
             }
            },
            "type": "barpolar"
           }
          ],
          "carpet": [
           {
            "aaxis": {
             "endlinecolor": "#2a3f5f",
             "gridcolor": "white",
             "linecolor": "white",
             "minorgridcolor": "white",
             "startlinecolor": "#2a3f5f"
            },
            "baxis": {
             "endlinecolor": "#2a3f5f",
             "gridcolor": "white",
             "linecolor": "white",
             "minorgridcolor": "white",
             "startlinecolor": "#2a3f5f"
            },
            "type": "carpet"
           }
          ],
          "choropleth": [
           {
            "colorbar": {
             "outlinewidth": 0,
             "ticks": ""
            },
            "type": "choropleth"
           }
          ],
          "contour": [
           {
            "colorbar": {
             "outlinewidth": 0,
             "ticks": ""
            },
            "colorscale": [
             [
              0,
              "#0d0887"
             ],
             [
              0.1111111111111111,
              "#46039f"
             ],
             [
              0.2222222222222222,
              "#7201a8"
             ],
             [
              0.3333333333333333,
              "#9c179e"
             ],
             [
              0.4444444444444444,
              "#bd3786"
             ],
             [
              0.5555555555555556,
              "#d8576b"
             ],
             [
              0.6666666666666666,
              "#ed7953"
             ],
             [
              0.7777777777777778,
              "#fb9f3a"
             ],
             [
              0.8888888888888888,
              "#fdca26"
             ],
             [
              1,
              "#f0f921"
             ]
            ],
            "type": "contour"
           }
          ],
          "contourcarpet": [
           {
            "colorbar": {
             "outlinewidth": 0,
             "ticks": ""
            },
            "type": "contourcarpet"
           }
          ],
          "heatmap": [
           {
            "colorbar": {
             "outlinewidth": 0,
             "ticks": ""
            },
            "colorscale": [
             [
              0,
              "#0d0887"
             ],
             [
              0.1111111111111111,
              "#46039f"
             ],
             [
              0.2222222222222222,
              "#7201a8"
             ],
             [
              0.3333333333333333,
              "#9c179e"
             ],
             [
              0.4444444444444444,
              "#bd3786"
             ],
             [
              0.5555555555555556,
              "#d8576b"
             ],
             [
              0.6666666666666666,
              "#ed7953"
             ],
             [
              0.7777777777777778,
              "#fb9f3a"
             ],
             [
              0.8888888888888888,
              "#fdca26"
             ],
             [
              1,
              "#f0f921"
             ]
            ],
            "type": "heatmap"
           }
          ],
          "heatmapgl": [
           {
            "colorbar": {
             "outlinewidth": 0,
             "ticks": ""
            },
            "colorscale": [
             [
              0,
              "#0d0887"
             ],
             [
              0.1111111111111111,
              "#46039f"
             ],
             [
              0.2222222222222222,
              "#7201a8"
             ],
             [
              0.3333333333333333,
              "#9c179e"
             ],
             [
              0.4444444444444444,
              "#bd3786"
             ],
             [
              0.5555555555555556,
              "#d8576b"
             ],
             [
              0.6666666666666666,
              "#ed7953"
             ],
             [
              0.7777777777777778,
              "#fb9f3a"
             ],
             [
              0.8888888888888888,
              "#fdca26"
             ],
             [
              1,
              "#f0f921"
             ]
            ],
            "type": "heatmapgl"
           }
          ],
          "histogram": [
           {
            "marker": {
             "pattern": {
              "fillmode": "overlay",
              "size": 10,
              "solidity": 0.2
             }
            },
            "type": "histogram"
           }
          ],
          "histogram2d": [
           {
            "colorbar": {
             "outlinewidth": 0,
             "ticks": ""
            },
            "colorscale": [
             [
              0,
              "#0d0887"
             ],
             [
              0.1111111111111111,
              "#46039f"
             ],
             [
              0.2222222222222222,
              "#7201a8"
             ],
             [
              0.3333333333333333,
              "#9c179e"
             ],
             [
              0.4444444444444444,
              "#bd3786"
             ],
             [
              0.5555555555555556,
              "#d8576b"
             ],
             [
              0.6666666666666666,
              "#ed7953"
             ],
             [
              0.7777777777777778,
              "#fb9f3a"
             ],
             [
              0.8888888888888888,
              "#fdca26"
             ],
             [
              1,
              "#f0f921"
             ]
            ],
            "type": "histogram2d"
           }
          ],
          "histogram2dcontour": [
           {
            "colorbar": {
             "outlinewidth": 0,
             "ticks": ""
            },
            "colorscale": [
             [
              0,
              "#0d0887"
             ],
             [
              0.1111111111111111,
              "#46039f"
             ],
             [
              0.2222222222222222,
              "#7201a8"
             ],
             [
              0.3333333333333333,
              "#9c179e"
             ],
             [
              0.4444444444444444,
              "#bd3786"
             ],
             [
              0.5555555555555556,
              "#d8576b"
             ],
             [
              0.6666666666666666,
              "#ed7953"
             ],
             [
              0.7777777777777778,
              "#fb9f3a"
             ],
             [
              0.8888888888888888,
              "#fdca26"
             ],
             [
              1,
              "#f0f921"
             ]
            ],
            "type": "histogram2dcontour"
           }
          ],
          "mesh3d": [
           {
            "colorbar": {
             "outlinewidth": 0,
             "ticks": ""
            },
            "type": "mesh3d"
           }
          ],
          "parcoords": [
           {
            "line": {
             "colorbar": {
              "outlinewidth": 0,
              "ticks": ""
             }
            },
            "type": "parcoords"
           }
          ],
          "pie": [
           {
            "automargin": true,
            "type": "pie"
           }
          ],
          "scatter": [
           {
            "fillpattern": {
             "fillmode": "overlay",
             "size": 10,
             "solidity": 0.2
            },
            "type": "scatter"
           }
          ],
          "scatter3d": [
           {
            "line": {
             "colorbar": {
              "outlinewidth": 0,
              "ticks": ""
             }
            },
            "marker": {
             "colorbar": {
              "outlinewidth": 0,
              "ticks": ""
             }
            },
            "type": "scatter3d"
           }
          ],
          "scattercarpet": [
           {
            "marker": {
             "colorbar": {
              "outlinewidth": 0,
              "ticks": ""
             }
            },
            "type": "scattercarpet"
           }
          ],
          "scattergeo": [
           {
            "marker": {
             "colorbar": {
              "outlinewidth": 0,
              "ticks": ""
             }
            },
            "type": "scattergeo"
           }
          ],
          "scattergl": [
           {
            "marker": {
             "colorbar": {
              "outlinewidth": 0,
              "ticks": ""
             }
            },
            "type": "scattergl"
           }
          ],
          "scattermapbox": [
           {
            "marker": {
             "colorbar": {
              "outlinewidth": 0,
              "ticks": ""
             }
            },
            "type": "scattermapbox"
           }
          ],
          "scatterpolar": [
           {
            "marker": {
             "colorbar": {
              "outlinewidth": 0,
              "ticks": ""
             }
            },
            "type": "scatterpolar"
           }
          ],
          "scatterpolargl": [
           {
            "marker": {
             "colorbar": {
              "outlinewidth": 0,
              "ticks": ""
             }
            },
            "type": "scatterpolargl"
           }
          ],
          "scatterternary": [
           {
            "marker": {
             "colorbar": {
              "outlinewidth": 0,
              "ticks": ""
             }
            },
            "type": "scatterternary"
           }
          ],
          "surface": [
           {
            "colorbar": {
             "outlinewidth": 0,
             "ticks": ""
            },
            "colorscale": [
             [
              0,
              "#0d0887"
             ],
             [
              0.1111111111111111,
              "#46039f"
             ],
             [
              0.2222222222222222,
              "#7201a8"
             ],
             [
              0.3333333333333333,
              "#9c179e"
             ],
             [
              0.4444444444444444,
              "#bd3786"
             ],
             [
              0.5555555555555556,
              "#d8576b"
             ],
             [
              0.6666666666666666,
              "#ed7953"
             ],
             [
              0.7777777777777778,
              "#fb9f3a"
             ],
             [
              0.8888888888888888,
              "#fdca26"
             ],
             [
              1,
              "#f0f921"
             ]
            ],
            "type": "surface"
           }
          ],
          "table": [
           {
            "cells": {
             "fill": {
              "color": "#EBF0F8"
             },
             "line": {
              "color": "white"
             }
            },
            "header": {
             "fill": {
              "color": "#C8D4E3"
             },
             "line": {
              "color": "white"
             }
            },
            "type": "table"
           }
          ]
         },
         "layout": {
          "annotationdefaults": {
           "arrowcolor": "#2a3f5f",
           "arrowhead": 0,
           "arrowwidth": 1
          },
          "autotypenumbers": "strict",
          "coloraxis": {
           "colorbar": {
            "outlinewidth": 0,
            "ticks": ""
           }
          },
          "colorscale": {
           "diverging": [
            [
             0,
             "#8e0152"
            ],
            [
             0.1,
             "#c51b7d"
            ],
            [
             0.2,
             "#de77ae"
            ],
            [
             0.3,
             "#f1b6da"
            ],
            [
             0.4,
             "#fde0ef"
            ],
            [
             0.5,
             "#f7f7f7"
            ],
            [
             0.6,
             "#e6f5d0"
            ],
            [
             0.7,
             "#b8e186"
            ],
            [
             0.8,
             "#7fbc41"
            ],
            [
             0.9,
             "#4d9221"
            ],
            [
             1,
             "#276419"
            ]
           ],
           "sequential": [
            [
             0,
             "#0d0887"
            ],
            [
             0.1111111111111111,
             "#46039f"
            ],
            [
             0.2222222222222222,
             "#7201a8"
            ],
            [
             0.3333333333333333,
             "#9c179e"
            ],
            [
             0.4444444444444444,
             "#bd3786"
            ],
            [
             0.5555555555555556,
             "#d8576b"
            ],
            [
             0.6666666666666666,
             "#ed7953"
            ],
            [
             0.7777777777777778,
             "#fb9f3a"
            ],
            [
             0.8888888888888888,
             "#fdca26"
            ],
            [
             1,
             "#f0f921"
            ]
           ],
           "sequentialminus": [
            [
             0,
             "#0d0887"
            ],
            [
             0.1111111111111111,
             "#46039f"
            ],
            [
             0.2222222222222222,
             "#7201a8"
            ],
            [
             0.3333333333333333,
             "#9c179e"
            ],
            [
             0.4444444444444444,
             "#bd3786"
            ],
            [
             0.5555555555555556,
             "#d8576b"
            ],
            [
             0.6666666666666666,
             "#ed7953"
            ],
            [
             0.7777777777777778,
             "#fb9f3a"
            ],
            [
             0.8888888888888888,
             "#fdca26"
            ],
            [
             1,
             "#f0f921"
            ]
           ]
          },
          "colorway": [
           "#636efa",
           "#EF553B",
           "#00cc96",
           "#ab63fa",
           "#FFA15A",
           "#19d3f3",
           "#FF6692",
           "#B6E880",
           "#FF97FF",
           "#FECB52"
          ],
          "font": {
           "color": "#2a3f5f"
          },
          "geo": {
           "bgcolor": "white",
           "lakecolor": "white",
           "landcolor": "#E5ECF6",
           "showlakes": true,
           "showland": true,
           "subunitcolor": "white"
          },
          "hoverlabel": {
           "align": "left"
          },
          "hovermode": "closest",
          "mapbox": {
           "style": "light"
          },
          "paper_bgcolor": "white",
          "plot_bgcolor": "#E5ECF6",
          "polar": {
           "angularaxis": {
            "gridcolor": "white",
            "linecolor": "white",
            "ticks": ""
           },
           "bgcolor": "#E5ECF6",
           "radialaxis": {
            "gridcolor": "white",
            "linecolor": "white",
            "ticks": ""
           }
          },
          "scene": {
           "xaxis": {
            "backgroundcolor": "#E5ECF6",
            "gridcolor": "white",
            "gridwidth": 2,
            "linecolor": "white",
            "showbackground": true,
            "ticks": "",
            "zerolinecolor": "white"
           },
           "yaxis": {
            "backgroundcolor": "#E5ECF6",
            "gridcolor": "white",
            "gridwidth": 2,
            "linecolor": "white",
            "showbackground": true,
            "ticks": "",
            "zerolinecolor": "white"
           },
           "zaxis": {
            "backgroundcolor": "#E5ECF6",
            "gridcolor": "white",
            "gridwidth": 2,
            "linecolor": "white",
            "showbackground": true,
            "ticks": "",
            "zerolinecolor": "white"
           }
          },
          "shapedefaults": {
           "line": {
            "color": "#2a3f5f"
           }
          },
          "ternary": {
           "aaxis": {
            "gridcolor": "white",
            "linecolor": "white",
            "ticks": ""
           },
           "baxis": {
            "gridcolor": "white",
            "linecolor": "white",
            "ticks": ""
           },
           "bgcolor": "#E5ECF6",
           "caxis": {
            "gridcolor": "white",
            "linecolor": "white",
            "ticks": ""
           }
          },
          "title": {
           "x": 0.05
          },
          "xaxis": {
           "automargin": true,
           "gridcolor": "white",
           "linecolor": "white",
           "ticks": "",
           "title": {
            "standoff": 15
           },
           "zerolinecolor": "white",
           "zerolinewidth": 2
          },
          "yaxis": {
           "automargin": true,
           "gridcolor": "white",
           "linecolor": "white",
           "ticks": "",
           "title": {
            "standoff": 15
           },
           "zerolinecolor": "white",
           "zerolinewidth": 2
          }
         }
        },
        "title": {
         "text": "Comparison of income classes and urbanisation, in 2000"
        },
        "updatemenus": [
         {
          "active": 0,
          "buttons": [
           {
            "args": [
             {
              "line.color": [
               [
                1,
                2,
                1,
                3,
                3,
                1,
                3,
                1,
                3,
                3,
                0,
                3,
                1,
                1,
                0,
                1,
                2,
                3,
                1,
                0,
                0,
                0,
                1,
                3,
                3,
                1,
                0,
                3,
                1,
                2,
                0,
                2,
                2,
                2,
                2,
                3,
                3,
                2,
                2,
                2,
                1,
                2,
                1,
                0,
                1,
                3,
                3,
                3,
                1,
                3,
                1,
                2,
                1,
                1,
                0,
                1,
                1,
                1,
                2,
                3,
                0,
                1,
                2,
                2,
                3,
                2,
                1,
                3,
                3,
                2,
                0,
                3,
                1,
                3,
                0,
                1,
                3,
                0,
                0,
                2,
                0,
                0,
                3,
                1,
                1,
                2,
                2,
                2,
                0,
                2,
                0,
                0,
                0,
                0,
                3,
                3,
                2,
                0,
                0,
                3,
                2,
                0,
                2,
                2,
                2,
                1,
                2,
                3,
                0,
                0,
                1,
                2,
                3,
                1,
                1,
                1,
                3,
                1,
                2,
                3,
                0,
                0,
                2,
                3,
                2,
                0,
                0,
                0,
                2,
                2,
                2,
                1,
                0,
                3,
                3,
                3,
                1,
                0,
                0,
                0
               ]
              ]
             }
            ],
            "label": "Urban Population",
            "method": "restyle"
           },
           {
            "args": [
             {
              "line.color": [
               [
                1,
                2,
                0,
                3,
                2,
                3,
                3,
                1,
                3,
                3,
                0,
                3,
                1,
                0,
                1,
                1,
                2,
                2,
                3,
                0,
                0,
                0,
                0,
                3,
                3,
                0,
                0,
                2,
                1,
                2,
                1,
                1,
                2,
                2,
                3,
                3,
                1,
                2,
                2,
                1,
                1,
                0,
                2,
                0,
                1,
                3,
                3,
                2,
                1,
                3,
                1,
                3,
                2,
                1,
                1,
                0,
                0,
                1,
                2,
                3,
                0,
                1,
                2,
                3,
                3,
                3,
                1,
                3,
                1,
                1,
                0,
                3,
                0,
                1,
                0,
                0,
                3,
                0,
                0,
                2,
                2,
                0,
                3,
                1,
                2,
                2,
                1,
                2,
                3,
                1,
                0,
                0,
                1,
                0,
                3,
                3,
                1,
                0,
                0,
                3,
                2,
                1,
                2,
                1,
                1,
                1,
                3,
                3,
                0,
                2,
                2,
                0,
                2,
                1,
                2,
                0,
                3,
                2,
                2,
                3,
                1,
                0,
                2,
                3,
                3,
                0,
                2,
                0,
                2,
                2,
                2,
                2,
                0,
                3,
                3,
                2,
                1,
                0,
                0,
                1
               ]
              ]
             }
            ],
            "label": "GDP Category",
            "method": "restyle"
           },
           {
            "args": [
             {
              "line.color": [
               [
                1,
                2,
                3,
                2,
                0,
                0,
                0,
                1,
                1,
                3,
                3,
                0,
                2,
                3,
                3,
                0,
                2,
                1,
                2,
                3,
                3,
                2,
                3,
                0,
                2,
                1,
                3,
                0,
                3,
                1,
                1,
                2,
                2,
                0,
                1,
                0,
                1,
                0,
                2,
                1,
                1,
                1,
                3,
                3,
                0,
                0,
                0,
                2,
                3,
                0,
                3,
                0,
                0,
                2,
                2,
                2,
                3,
                2,
                0,
                0,
                2,
                2,
                2,
                1,
                1,
                0,
                0,
                1,
                2,
                0,
                3,
                1,
                0,
                3,
                2,
                2,
                1,
                3,
                2,
                2,
                3,
                3,
                0,
                3,
                0,
                1,
                2,
                1,
                3,
                1,
                2,
                1,
                3,
                3,
                1,
                1,
                1,
                2,
                3,
                0,
                1,
                2,
                2,
                2,
                1,
                1,
                1,
                3,
                3,
                0,
                0,
                3,
                2,
                2,
                1,
                3,
                2,
                0,
                1,
                1,
                0,
                2,
                0,
                0,
                0,
                1,
                3,
                3,
                0,
                1,
                2,
                1,
                3,
                3,
                0,
                0,
                2,
                3,
                3,
                1
               ]
              ]
             }
            ],
            "label": "Urban Population Change",
            "method": "restyle"
           }
          ],
          "direction": "down",
          "showactive": true
         }
        ]
       }
      },
      "image/png": "[encoded data removed]",
      "text/html": [
       "<div>                            <div id=\"0b385944-63e2-416b-b848-ef6efe3d7dc3\" class=\"plotly-graph-div\" style=\"height:500px; width:100%;\"></div>            <script type=\"text/javascript\">                require([\"plotly\"], function(Plotly) {                    window.PLOTLYENV=window.PLOTLYENV || {};                                    if (document.getElementById(\"0b385944-63e2-416b-b848-ef6efe3d7dc3\")) {                    Plotly.newPlot(                        \"0b385944-63e2-416b-b848-ef6efe3d7dc3\",                        [{\"dimensions\":[{\"categoryarray\":[\"0-25%\",\"26-50%\",\"51-75%\",\"76-100%\"],\"categoryorder\":\"array\",\"label\":\"Urban Population\",\"values\":[\"26-50%\",\"51-75%\",\"26-50%\",\"76-100%\",\"76-100%\",\"26-50%\",\"76-100%\",\"26-50%\",\"76-100%\",\"76-100%\",\"0-25%\",\"76-100%\",\"26-50%\",\"26-50%\",\"0-25%\",\"26-50%\",\"51-75%\",\"76-100%\",\"26-50%\",\"0-25%\",\"0-25%\",\"0-25%\",\"26-50%\",\"76-100%\",\"76-100%\",\"26-50%\",\"0-25%\",\"76-100%\",\"26-50%\",\"51-75%\",\"0-25%\",\"51-75%\",\"51-75%\",\"51-75%\",\"51-75%\",\"76-100%\",\"76-100%\",\"51-75%\",\"51-75%\",\"51-75%\",\"26-50%\",\"51-75%\",\"26-50%\",\"0-25%\",\"26-50%\",\"76-100%\",\"76-100%\",\"76-100%\",\"26-50%\",\"76-100%\",\"26-50%\",\"51-75%\",\"26-50%\",\"26-50%\",\"0-25%\",\"26-50%\",\"26-50%\",\"26-50%\",\"51-75%\",\"76-100%\",\"0-25%\",\"26-50%\",\"51-75%\",\"51-75%\",\"76-100%\",\"51-75%\",\"26-50%\",\"76-100%\",\"76-100%\",\"51-75%\",\"0-25%\",\"76-100%\",\"26-50%\",\"76-100%\",\"0-25%\",\"26-50%\",\"76-100%\",\"0-25%\",\"0-25%\",\"51-75%\",\"0-25%\",\"0-25%\",\"76-100%\",\"26-50%\",\"26-50%\",\"51-75%\",\"51-75%\",\"51-75%\",\"0-25%\",\"51-75%\",\"0-25%\",\"0-25%\",\"0-25%\",\"0-25%\",\"76-100%\",\"76-100%\",\"51-75%\",\"0-25%\",\"0-25%\",\"76-100%\",\"51-75%\",\"0-25%\",\"51-75%\",\"51-75%\",\"51-75%\",\"26-50%\",\"51-75%\",\"76-100%\",\"0-25%\",\"0-25%\",\"26-50%\",\"51-75%\",\"76-100%\",\"26-50%\",\"26-50%\",\"26-50%\",\"76-100%\",\"26-50%\",\"51-75%\",\"76-100%\",\"0-25%\",\"0-25%\",\"51-75%\",\"76-100%\",\"51-75%\",\"0-25%\",\"0-25%\",\"0-25%\",\"51-75%\",\"51-75%\",\"51-75%\",\"26-50%\",\"0-25%\",\"76-100%\",\"76-100%\",\"76-100%\",\"26-50%\",\"0-25%\",\"0-25%\",\"0-25%\"]},{\"categoryarray\":[\"0-25%\",\"26-50%\",\"51-75%\",\"76-100%\"],\"categoryorder\":\"array\",\"label\":\"GDP Category\",\"values\":[\"26-50%\",\"51-75%\",\"0-25%\",\"76-100%\",\"51-75%\",\"76-100%\",\"76-100%\",\"26-50%\",\"76-100%\",\"76-100%\",\"0-25%\",\"76-100%\",\"26-50%\",\"0-25%\",\"26-50%\",\"26-50%\",\"51-75%\",\"51-75%\",\"76-100%\",\"0-25%\",\"0-25%\",\"0-25%\",\"0-25%\",\"76-100%\",\"76-100%\",\"0-25%\",\"0-25%\",\"51-75%\",\"26-50%\",\"51-75%\",\"26-50%\",\"26-50%\",\"51-75%\",\"51-75%\",\"76-100%\",\"76-100%\",\"26-50%\",\"51-75%\",\"51-75%\",\"26-50%\",\"26-50%\",\"0-25%\",\"51-75%\",\"0-25%\",\"26-50%\",\"76-100%\",\"76-100%\",\"51-75%\",\"26-50%\",\"76-100%\",\"26-50%\",\"76-100%\",\"51-75%\",\"26-50%\",\"26-50%\",\"0-25%\",\"0-25%\",\"26-50%\",\"51-75%\",\"76-100%\",\"0-25%\",\"26-50%\",\"51-75%\",\"76-100%\",\"76-100%\",\"76-100%\",\"26-50%\",\"76-100%\",\"26-50%\",\"26-50%\",\"0-25%\",\"76-100%\",\"0-25%\",\"26-50%\",\"0-25%\",\"0-25%\",\"76-100%\",\"0-25%\",\"0-25%\",\"51-75%\",\"51-75%\",\"0-25%\",\"76-100%\",\"26-50%\",\"51-75%\",\"51-75%\",\"26-50%\",\"51-75%\",\"76-100%\",\"26-50%\",\"0-25%\",\"0-25%\",\"26-50%\",\"0-25%\",\"76-100%\",\"76-100%\",\"26-50%\",\"0-25%\",\"0-25%\",\"76-100%\",\"51-75%\",\"26-50%\",\"51-75%\",\"26-50%\",\"26-50%\",\"26-50%\",\"76-100%\",\"76-100%\",\"0-25%\",\"51-75%\",\"51-75%\",\"0-25%\",\"51-75%\",\"26-50%\",\"51-75%\",\"0-25%\",\"76-100%\",\"51-75%\",\"51-75%\",\"76-100%\",\"26-50%\",\"0-25%\",\"51-75%\",\"76-100%\",\"76-100%\",\"0-25%\",\"51-75%\",\"0-25%\",\"51-75%\",\"51-75%\",\"51-75%\",\"51-75%\",\"0-25%\",\"76-100%\",\"76-100%\",\"51-75%\",\"26-50%\",\"0-25%\",\"0-25%\",\"26-50%\"]},{\"categoryarray\":[\"76-100%\",\"51-75%\",\"26-50%\",\"0-25%\"],\"categoryorder\":\"array\",\"label\":\"Urban Population Change\",\"values\":[\"26-50%\",\"51-75%\",\"76-100%\",\"51-75%\",\"0-25%\",\"0-25%\",\"0-25%\",\"26-50%\",\"26-50%\",\"76-100%\",\"76-100%\",\"0-25%\",\"51-75%\",\"76-100%\",\"76-100%\",\"0-25%\",\"51-75%\",\"26-50%\",\"51-75%\",\"76-100%\",\"76-100%\",\"51-75%\",\"76-100%\",\"0-25%\",\"51-75%\",\"26-50%\",\"76-100%\",\"0-25%\",\"76-100%\",\"26-50%\",\"26-50%\",\"51-75%\",\"51-75%\",\"0-25%\",\"26-50%\",\"0-25%\",\"26-50%\",\"0-25%\",\"51-75%\",\"26-50%\",\"26-50%\",\"26-50%\",\"76-100%\",\"76-100%\",\"0-25%\",\"0-25%\",\"0-25%\",\"51-75%\",\"76-100%\",\"0-25%\",\"76-100%\",\"0-25%\",\"0-25%\",\"51-75%\",\"51-75%\",\"51-75%\",\"76-100%\",\"51-75%\",\"0-25%\",\"0-25%\",\"51-75%\",\"51-75%\",\"51-75%\",\"26-50%\",\"26-50%\",\"0-25%\",\"0-25%\",\"26-50%\",\"51-75%\",\"0-25%\",\"76-100%\",\"26-50%\",\"0-25%\",\"76-100%\",\"51-75%\",\"51-75%\",\"26-50%\",\"76-100%\",\"51-75%\",\"51-75%\",\"76-100%\",\"76-100%\",\"0-25%\",\"76-100%\",\"0-25%\",\"26-50%\",\"51-75%\",\"26-50%\",\"76-100%\",\"26-50%\",\"51-75%\",\"26-50%\",\"76-100%\",\"76-100%\",\"26-50%\",\"26-50%\",\"26-50%\",\"51-75%\",\"76-100%\",\"0-25%\",\"26-50%\",\"51-75%\",\"51-75%\",\"51-75%\",\"26-50%\",\"26-50%\",\"26-50%\",\"76-100%\",\"76-100%\",\"0-25%\",\"0-25%\",\"76-100%\",\"51-75%\",\"51-75%\",\"26-50%\",\"76-100%\",\"51-75%\",\"0-25%\",\"26-50%\",\"26-50%\",\"0-25%\",\"51-75%\",\"0-25%\",\"0-25%\",\"0-25%\",\"26-50%\",\"76-100%\",\"76-100%\",\"0-25%\",\"26-50%\",\"51-75%\",\"26-50%\",\"76-100%\",\"76-100%\",\"0-25%\",\"0-25%\",\"51-75%\",\"76-100%\",\"76-100%\",\"26-50%\"]}],\"line\":{\"color\":[1,2,1,3,3,1,3,1,3,3,0,3,1,1,0,1,2,3,1,0,0,0,1,3,3,1,0,3,1,2,0,2,2,2,2,3,3,2,2,2,1,2,1,0,1,3,3,3,1,3,1,2,1,1,0,1,1,1,2,3,0,1,2,2,3,2,1,3,3,2,0,3,1,3,0,1,3,0,0,2,0,0,3,1,1,2,2,2,0,2,0,0,0,0,3,3,2,0,0,3,2,0,2,2,2,1,2,3,0,0,1,2,3,1,1,1,3,1,2,3,0,0,2,3,2,0,0,0,2,2,2,1,0,3,3,3,1,0,0,0],\"colorscale\":[[0.0,\"#ffbe0b\"],[0.25,\"#fb5607\"],[0.5,\"#ff006e\"],[0.75,\"#8338ec\"],[1.0,\"#3a86ff\"]],\"shape\":\"hspline\"},\"type\":\"parcats\"}],                        {\"template\":{\"data\":{\"histogram2dcontour\":[{\"type\":\"histogram2dcontour\",\"colorbar\":{\"outlinewidth\":0,\"ticks\":\"\"},\"colorscale\":[[0.0,\"#0d0887\"],[0.1111111111111111,\"#46039f\"],[0.2222222222222222,\"#7201a8\"],[0.3333333333333333,\"#9c179e\"],[0.4444444444444444,\"#bd3786\"],[0.5555555555555556,\"#d8576b\"],[0.6666666666666666,\"#ed7953\"],[0.7777777777777778,\"#fb9f3a\"],[0.8888888888888888,\"#fdca26\"],[1.0,\"#f0f921\"]]}],\"choropleth\":[{\"type\":\"choropleth\",\"colorbar\":{\"outlinewidth\":0,\"ticks\":\"\"}}],\"histogram2d\":[{\"type\":\"histogram2d\",\"colorbar\":{\"outlinewidth\":0,\"ticks\":\"\"},\"colorscale\":[[0.0,\"#0d0887\"],[0.1111111111111111,\"#46039f\"],[0.2222222222222222,\"#7201a8\"],[0.3333333333333333,\"#9c179e\"],[0.4444444444444444,\"#bd3786\"],[0.5555555555555556,\"#d8576b\"],[0.6666666666666666,\"#ed7953\"],[0.7777777777777778,\"#fb9f3a\"],[0.8888888888888888,\"#fdca26\"],[1.0,\"#f0f921\"]]}],\"heatmap\":[{\"type\":\"heatmap\",\"colorbar\":{\"outlinewidth\":0,\"ticks\":\"\"},\"colorscale\":[[0.0,\"#0d0887\"],[0.1111111111111111,\"#46039f\"],[0.2222222222222222,\"#7201a8\"],[0.3333333333333333,\"#9c179e\"],[0.4444444444444444,\"#bd3786\"],[0.5555555555555556,\"#d8576b\"],[0.6666666666666666,\"#ed7953\"],[0.7777777777777778,\"#fb9f3a\"],[0.8888888888888888,\"#fdca26\"],[1.0,\"#f0f921\"]]}],\"heatmapgl\":[{\"type\":\"heatmapgl\",\"colorbar\":{\"outlinewidth\":0,\"ticks\":\"\"},\"colorscale\":[[0.0,\"#0d0887\"],[0.1111111111111111,\"#46039f\"],[0.2222222222222222,\"#7201a8\"],[0.3333333333333333,\"#9c179e\"],[0.4444444444444444,\"#bd3786\"],[0.5555555555555556,\"#d8576b\"],[0.6666666666666666,\"#ed7953\"],[0.7777777777777778,\"#fb9f3a\"],[0.8888888888888888,\"#fdca26\"],[1.0,\"#f0f921\"]]}],\"contourcarpet\":[{\"type\":\"contourcarpet\",\"colorbar\":{\"outlinewidth\":0,\"ticks\":\"\"}}],\"contour\":[{\"type\":\"contour\",\"colorbar\":{\"outlinewidth\":0,\"ticks\":\"\"},\"colorscale\":[[0.0,\"#0d0887\"],[0.1111111111111111,\"#46039f\"],[0.2222222222222222,\"#7201a8\"],[0.3333333333333333,\"#9c179e\"],[0.4444444444444444,\"#bd3786\"],[0.5555555555555556,\"#d8576b\"],[0.6666666666666666,\"#ed7953\"],[0.7777777777777778,\"#fb9f3a\"],[0.8888888888888888,\"#fdca26\"],[1.0,\"#f0f921\"]]}],\"surface\":[{\"type\":\"surface\",\"colorbar\":{\"outlinewidth\":0,\"ticks\":\"\"},\"colorscale\":[[0.0,\"#0d0887\"],[0.1111111111111111,\"#46039f\"],[0.2222222222222222,\"#7201a8\"],[0.3333333333333333,\"#9c179e\"],[0.4444444444444444,\"#bd3786\"],[0.5555555555555556,\"#d8576b\"],[0.6666666666666666,\"#ed7953\"],[0.7777777777777778,\"#fb9f3a\"],[0.8888888888888888,\"#fdca26\"],[1.0,\"#f0f921\"]]}],\"mesh3d\":[{\"type\":\"mesh3d\",\"colorbar\":{\"outlinewidth\":0,\"ticks\":\"\"}}],\"scatter\":[{\"fillpattern\":{\"fillmode\":\"overlay\",\"size\":10,\"solidity\":0.2},\"type\":\"scatter\"}],\"parcoords\":[{\"type\":\"parcoords\",\"line\":{\"colorbar\":{\"outlinewidth\":0,\"ticks\":\"\"}}}],\"scatterpolargl\":[{\"type\":\"scatterpolargl\",\"marker\":{\"colorbar\":{\"outlinewidth\":0,\"ticks\":\"\"}}}],\"bar\":[{\"error_x\":{\"color\":\"#2a3f5f\"},\"error_y\":{\"color\":\"#2a3f5f\"},\"marker\":{\"line\":{\"color\":\"#E5ECF6\",\"width\":0.5},\"pattern\":{\"fillmode\":\"overlay\",\"size\":10,\"solidity\":0.2}},\"type\":\"bar\"}],\"scattergeo\":[{\"type\":\"scattergeo\",\"marker\":{\"colorbar\":{\"outlinewidth\":0,\"ticks\":\"\"}}}],\"scatterpolar\":[{\"type\":\"scatterpolar\",\"marker\":{\"colorbar\":{\"outlinewidth\":0,\"ticks\":\"\"}}}],\"histogram\":[{\"marker\":{\"pattern\":{\"fillmode\":\"overlay\",\"size\":10,\"solidity\":0.2}},\"type\":\"histogram\"}],\"scattergl\":[{\"type\":\"scattergl\",\"marker\":{\"colorbar\":{\"outlinewidth\":0,\"ticks\":\"\"}}}],\"scatter3d\":[{\"type\":\"scatter3d\",\"line\":{\"colorbar\":{\"outlinewidth\":0,\"ticks\":\"\"}},\"marker\":{\"colorbar\":{\"outlinewidth\":0,\"ticks\":\"\"}}}],\"scattermapbox\":[{\"type\":\"scattermapbox\",\"marker\":{\"colorbar\":{\"outlinewidth\":0,\"ticks\":\"\"}}}],\"scatterternary\":[{\"type\":\"scatterternary\",\"marker\":{\"colorbar\":{\"outlinewidth\":0,\"ticks\":\"\"}}}],\"scattercarpet\":[{\"type\":\"scattercarpet\",\"marker\":{\"colorbar\":{\"outlinewidth\":0,\"ticks\":\"\"}}}],\"carpet\":[{\"aaxis\":{\"endlinecolor\":\"#2a3f5f\",\"gridcolor\":\"white\",\"linecolor\":\"white\",\"minorgridcolor\":\"white\",\"startlinecolor\":\"#2a3f5f\"},\"baxis\":{\"endlinecolor\":\"#2a3f5f\",\"gridcolor\":\"white\",\"linecolor\":\"white\",\"minorgridcolor\":\"white\",\"startlinecolor\":\"#2a3f5f\"},\"type\":\"carpet\"}],\"table\":[{\"cells\":{\"fill\":{\"color\":\"#EBF0F8\"},\"line\":{\"color\":\"white\"}},\"header\":{\"fill\":{\"color\":\"#C8D4E3\"},\"line\":{\"color\":\"white\"}},\"type\":\"table\"}],\"barpolar\":[{\"marker\":{\"line\":{\"color\":\"#E5ECF6\",\"width\":0.5},\"pattern\":{\"fillmode\":\"overlay\",\"size\":10,\"solidity\":0.2}},\"type\":\"barpolar\"}],\"pie\":[{\"automargin\":true,\"type\":\"pie\"}]},\"layout\":{\"autotypenumbers\":\"strict\",\"colorway\":[\"#636efa\",\"#EF553B\",\"#00cc96\",\"#ab63fa\",\"#FFA15A\",\"#19d3f3\",\"#FF6692\",\"#B6E880\",\"#FF97FF\",\"#FECB52\"],\"font\":{\"color\":\"#2a3f5f\"},\"hovermode\":\"closest\",\"hoverlabel\":{\"align\":\"left\"},\"paper_bgcolor\":\"white\",\"plot_bgcolor\":\"#E5ECF6\",\"polar\":{\"bgcolor\":\"#E5ECF6\",\"angularaxis\":{\"gridcolor\":\"white\",\"linecolor\":\"white\",\"ticks\":\"\"},\"radialaxis\":{\"gridcolor\":\"white\",\"linecolor\":\"white\",\"ticks\":\"\"}},\"ternary\":{\"bgcolor\":\"#E5ECF6\",\"aaxis\":{\"gridcolor\":\"white\",\"linecolor\":\"white\",\"ticks\":\"\"},\"baxis\":{\"gridcolor\":\"white\",\"linecolor\":\"white\",\"ticks\":\"\"},\"caxis\":{\"gridcolor\":\"white\",\"linecolor\":\"white\",\"ticks\":\"\"}},\"coloraxis\":{\"colorbar\":{\"outlinewidth\":0,\"ticks\":\"\"}},\"colorscale\":{\"sequential\":[[0.0,\"#0d0887\"],[0.1111111111111111,\"#46039f\"],[0.2222222222222222,\"#7201a8\"],[0.3333333333333333,\"#9c179e\"],[0.4444444444444444,\"#bd3786\"],[0.5555555555555556,\"#d8576b\"],[0.6666666666666666,\"#ed7953\"],[0.7777777777777778,\"#fb9f3a\"],[0.8888888888888888,\"#fdca26\"],[1.0,\"#f0f921\"]],\"sequentialminus\":[[0.0,\"#0d0887\"],[0.1111111111111111,\"#46039f\"],[0.2222222222222222,\"#7201a8\"],[0.3333333333333333,\"#9c179e\"],[0.4444444444444444,\"#bd3786\"],[0.5555555555555556,\"#d8576b\"],[0.6666666666666666,\"#ed7953\"],[0.7777777777777778,\"#fb9f3a\"],[0.8888888888888888,\"#fdca26\"],[1.0,\"#f0f921\"]],\"diverging\":[[0,\"#8e0152\"],[0.1,\"#c51b7d\"],[0.2,\"#de77ae\"],[0.3,\"#f1b6da\"],[0.4,\"#fde0ef\"],[0.5,\"#f7f7f7\"],[0.6,\"#e6f5d0\"],[0.7,\"#b8e186\"],[0.8,\"#7fbc41\"],[0.9,\"#4d9221\"],[1,\"#276419\"]]},\"xaxis\":{\"gridcolor\":\"white\",\"linecolor\":\"white\",\"ticks\":\"\",\"title\":{\"standoff\":15},\"zerolinecolor\":\"white\",\"automargin\":true,\"zerolinewidth\":2},\"yaxis\":{\"gridcolor\":\"white\",\"linecolor\":\"white\",\"ticks\":\"\",\"title\":{\"standoff\":15},\"zerolinecolor\":\"white\",\"automargin\":true,\"zerolinewidth\":2},\"scene\":{\"xaxis\":{\"backgroundcolor\":\"#E5ECF6\",\"gridcolor\":\"white\",\"linecolor\":\"white\",\"showbackground\":true,\"ticks\":\"\",\"zerolinecolor\":\"white\",\"gridwidth\":2},\"yaxis\":{\"backgroundcolor\":\"#E5ECF6\",\"gridcolor\":\"white\",\"linecolor\":\"white\",\"showbackground\":true,\"ticks\":\"\",\"zerolinecolor\":\"white\",\"gridwidth\":2},\"zaxis\":{\"backgroundcolor\":\"#E5ECF6\",\"gridcolor\":\"white\",\"linecolor\":\"white\",\"showbackground\":true,\"ticks\":\"\",\"zerolinecolor\":\"white\",\"gridwidth\":2}},\"shapedefaults\":{\"line\":{\"color\":\"#2a3f5f\"}},\"annotationdefaults\":{\"arrowcolor\":\"#2a3f5f\",\"arrowhead\":0,\"arrowwidth\":1},\"geo\":{\"bgcolor\":\"white\",\"landcolor\":\"#E5ECF6\",\"subunitcolor\":\"white\",\"showland\":true,\"showlakes\":true,\"lakecolor\":\"white\"},\"title\":{\"x\":0.05},\"mapbox\":{\"style\":\"light\"}}},\"title\":{\"text\":\"Comparison of income classes and urbanisation, in 2000\"},\"height\":500,\"updatemenus\":[{\"buttons\":[{\"args\":[{\"line.color\":[[1,2,1,3,3,1,3,1,3,3,0,3,1,1,0,1,2,3,1,0,0,0,1,3,3,1,0,3,1,2,0,2,2,2,2,3,3,2,2,2,1,2,1,0,1,3,3,3,1,3,1,2,1,1,0,1,1,1,2,3,0,1,2,2,3,2,1,3,3,2,0,3,1,3,0,1,3,0,0,2,0,0,3,1,1,2,2,2,0,2,0,0,0,0,3,3,2,0,0,3,2,0,2,2,2,1,2,3,0,0,1,2,3,1,1,1,3,1,2,3,0,0,2,3,2,0,0,0,2,2,2,1,0,3,3,3,1,0,0,0]]}],\"label\":\"Urban Population\",\"method\":\"restyle\"},{\"args\":[{\"line.color\":[[1,2,0,3,2,3,3,1,3,3,0,3,1,0,1,1,2,2,3,0,0,0,0,3,3,0,0,2,1,2,1,1,2,2,3,3,1,2,2,1,1,0,2,0,1,3,3,2,1,3,1,3,2,1,1,0,0,1,2,3,0,1,2,3,3,3,1,3,1,1,0,3,0,1,0,0,3,0,0,2,2,0,3,1,2,2,1,2,3,1,0,0,1,0,3,3,1,0,0,3,2,1,2,1,1,1,3,3,0,2,2,0,2,1,2,0,3,2,2,3,1,0,2,3,3,0,2,0,2,2,2,2,0,3,3,2,1,0,0,1]]}],\"label\":\"GDP Category\",\"method\":\"restyle\"},{\"args\":[{\"line.color\":[[1,2,3,2,0,0,0,1,1,3,3,0,2,3,3,0,2,1,2,3,3,2,3,0,2,1,3,0,3,1,1,2,2,0,1,0,1,0,2,1,1,1,3,3,0,0,0,2,3,0,3,0,0,2,2,2,3,2,0,0,2,2,2,1,1,0,0,1,2,0,3,1,0,3,2,2,1,3,2,2,3,3,0,3,0,1,2,1,3,1,2,1,3,3,1,1,1,2,3,0,1,2,2,2,1,1,1,3,3,0,0,3,2,2,1,3,2,0,1,1,0,2,0,0,0,1,3,3,0,1,2,1,3,3,0,0,2,3,3,1]]}],\"label\":\"Urban Population Change\",\"method\":\"restyle\"}],\"direction\":\"down\",\"showactive\":true}],\"annotations\":[{\"font\":{\"color\":\"black\",\"size\":12},\"showarrow\":false,\"text\":\"<span style='font-style: italic;'>Note: catogories are based on distribution, not the actual percentages from the data.</span>\",\"textangle\":0,\"x\":0.045,\"xanchor\":\"left\",\"xref\":\"paper\",\"y\":-0.12,\"yref\":\"paper\"}]},                        {\"responsive\": true}                    ).then(function(){\n",
       "                            \n",
       "var gd = document.getElementById('0b385944-63e2-416b-b848-ef6efe3d7dc3');\n",
       "var x = new MutationObserver(function (mutations, observer) {{\n",
       "        var display = window.getComputedStyle(gd).display;\n",
       "        if (!display || display === 'none') {{\n",
       "            console.log([gd, 'removed!']);\n",
       "            Plotly.purge(gd);\n",
       "            observer.disconnect();\n",
       "        }}\n",
       "}});\n",
       "\n",
       "// Listen for the removal of the full notebook cells\n",
       "var notebookContainer = gd.closest('#notebook-container');\n",
       "if (notebookContainer) {{\n",
       "    x.observe(notebookContainer, {childList: true});\n",
       "}}\n",
       "\n",
       "// Listen for the clearing of the current output cell\n",
       "var outputEl = gd.closest('.output');\n",
       "if (outputEl) {{\n",
       "    x.observe(outputEl, {childList: true});\n",
       "}}\n",
       "\n",
       "                        })                };                });            </script>        </div>"
      ]
     },
     "metadata": {},
     "output_type": "display_data"
    }
   ],
   "source": [
    "\n",
    "\n",
    "# Drop rows with missing values\n",
    "merged_df = merged_df.dropna(subset=['2000_x', '2000_y', '2000-2005']).copy()\n",
    "\n",
    "# Create categories\n",
    "merged_df.loc[:, 'urban_pop_category'] = pd.qcut(merged_df['2000_y'], q=4, labels=['0-25%', '26-50%', '51-75%', '76-100%'])\n",
    "merged_df.loc[:, 'gdp_category'] = pd.qcut(merged_df['2000_x'], q=4, labels=['0-25%', '26-50%', '51-75%', '76-100%'])\n",
    "merged_df.loc[:, 'urban_pop_category_change'] = pd.qcut(merged_df['2000-2005'], q=4, labels=['0-25%', '26-50%', '51-75%', '76-100%'])\n",
    "\n",
    "# Define the custom color palette\n",
    "color_palette = ['#ffbe0b', '#fb5607', '#ff006e', '#8338ec', '#3a86ff']\n",
    "\n",
    "# Create a colorscale\n",
    "colorscale = [[i / (len(color_palette) - 1), color] for i, color in enumerate(color_palette)]\n",
    "\n",
    "# Calculate value counts and normalize to get percentages\n",
    "gdp_category_counts = merged_df['gdp_category'].value_counts(normalize=True).sort_index()\n",
    "urban_pop_category_counts = merged_df['urban_pop_category'].value_counts(normalize=True).sort_index()\n",
    "urban_pop_category_change_counts = merged_df['urban_pop_category_change'].value_counts(normalize=True).sort_index(ascending=False)\n",
    "\n",
    "# Extract sorted category labels\n",
    "gdp_category_sorted = gdp_category_counts.index.tolist()\n",
    "urban_pop_category_sorted = urban_pop_category_counts.index.tolist()\n",
    "urban_pop_category_change_sorted = urban_pop_category_change_counts.index.tolist()\n",
    "\n",
    "fig1 = go.Figure(go.Parcats(\n",
    "    dimensions=[\n",
    "        {\n",
    "            'label': 'Urban Population',\n",
    "            'values': merged_df['urban_pop_category'],\n",
    "            'categoryorder': 'array',\n",
    "            'categoryarray': urban_pop_category_sorted\n",
    "        },\n",
    "                {\n",
    "            'label': 'GDP Category',\n",
    "            'values': merged_df['gdp_category'],\n",
    "            'categoryorder': 'array',\n",
    "            'categoryarray': gdp_category_sorted\n",
    "        },\n",
    "        {\n",
    "            'label': 'Urban Population Change',\n",
    "            'values': merged_df['urban_pop_category_change'],\n",
    "            'categoryorder': 'array',\n",
    "            'categoryarray': urban_pop_category_change_sorted\n",
    "        },\n",
    "    ],\n",
    "    line={'color': merged_df['urban_pop_category'].cat.codes, 'colorscale': colorscale}\n",
    "))\n",
    "\n",
    "fig1.update_traces(line_shape='hspline', selector=dict(type='parcats')) #curved lines\n",
    "fig1.update_layout(title=\"Comparison of income classes and urbanisation, in 2000\", height=500)\n",
    "\n",
    "# Define the buttons for the dropdown menu\n",
    "update_menus = [\n",
    "    {\n",
    "        'buttons': [\n",
    "            {\n",
    "                'label': 'Urban Population',\n",
    "                'method': 'restyle',\n",
    "                'args': [{'line.color': [merged_df['urban_pop_category'].cat.codes]}]\n",
    "            },\n",
    "            {\n",
    "                'label': 'GDP Category',\n",
    "                'method': 'restyle',\n",
    "                'args': [{'line.color': [merged_df['gdp_category'].cat.codes]}]\n",
    "            },\n",
    "            {\n",
    "                'label': 'Urban Population Change',\n",
    "                'method': 'restyle',\n",
    "                'args': [{'line.color': [merged_df['urban_pop_category_change'].cat.codes]}]\n",
    "            }\n",
    "\n",
    "        ],\n",
    "        'direction': 'down',\n",
    "        'showactive': True,\n",
    "    }\n",
    "]\n",
    "\n",
    "# Update layout with dropdown menu\n",
    "fig1.update_layout(\n",
    "    updatemenus=update_menus\n",
    ")\n",
    "fig1.add_annotation(dict(font=dict(color='black',size=12),\n",
    "                                        x=0.045,\n",
    "                                        y=-0.12,\n",
    "                                        showarrow=False,\n",
    "                                        text=\"<span style='font-style: italic;'>\"+\"Note: catogories are based on distribution, not the actual percentages from the data.\"+\"</span>\",\n",
    "                                        textangle=0,\n",
    "                                        xanchor='left',\n",
    "                                        xref=\"paper\",\n",
    "                                        yref=\"paper\"))\n",
    "\n",
    "\n",
    "\n",
    "# Show the plot\n",
    "fig1.show()\n"
   ]
  },
  {
   "cell_type": "markdown",
   "id": "b2779afa-d8f2-475a-81b0-b6758c0a1ad4",
   "metadata": {},
   "source": [
    "After visualizing the data, it becomes apparent that the countries with a higher GDP make up most of the countries with the largest proportion of the population living in urban areas (see the graph with *'GDP Category'* or *'Urban Population'* enabled). To support the idea that urbanization leads to a higher GDP, it has to be believed that the correlation between the two is *caused* by the rising urbanization. This is argued in Glaeser, E. L., & Gottlieb, J. D. (2009). *\"The Wealth of Cities: Agglomeration Economies and Spatial Equilibrium in the United States\". Journal of Economic Literature, 47(4), 983-1028*. This paper supports the notion that urbanization drives economic growth by fostering environments where innovation and productivity can flourish. It emphasizes that cities, through agglomeration economies, become centers of economic activity that significantly contribute to higher GDP.\n",
    "\n",
    "However, there are many other articles that contradict this idea. One of those papers builds a strong case supporting the idea that it is not urbanization that leads to economic growth, but in fact the other way around. Bloom, D. E., Canning, D., & Fink (2008) argue in their paper *\"Urbanization and the Wealth of Nations\"* that economic growth precedes urbanization, as higher GDP and economic opportunities in urban areas attract rural populations.\n",
    "\n",
    "Lastly, in an attempt to figure out the direction of the causation, a third variable was added to the graph. This uncovers that less wealthy countries have a higher increase in population in rural areas. Assuming that the increase of GDP happens gradually, not instantly, it could be concluded that countries with lower GDP have more people migrating to urban areas. However, although the correlation is obvious, the causation between the variables is very dependent on interpretation."
   ]
  },
  {
   "cell_type": "markdown",
   "id": "beec4cf6-874b-4354-9290-5d38abf0f634",
   "metadata": {},
   "source": [
    "### Sources\n",
    "- Glaeser, E. L., & Gottlieb, J. D. (2009). \"The Wealth of Cities: Agglomeration Economies and Spatial Equilibrium in the United States\". Journal of Economic Literature, 47(4), 983-1028.\n",
    "- Bloom, D. E., Canning, D., & Fink, G. (2008). Urbanization and the Wealth of Nations. Science, 319(5864), 772-775."
   ]
  },
  {
   "cell_type": "code",
   "execution_count": null,
   "id": "726bd582-d421-4e25-b8c3-8d050454dde2",
   "metadata": {
    "jupyter": {
     "source_hidden": true
    }
   },
   "outputs": [],
   "source": []
  }
 ],
 "metadata": {
  "kernelspec": {
   "display_name": "Python 3 (ipykernel)",
   "language": "python",
   "name": "python3"
  },
  "language_info": {
   "codemirror_mode": {
    "name": "ipython",
    "version": 3
   },
   "file_extension": ".py",
   "mimetype": "text/x-python",
   "name": "python",
   "nbconvert_exporter": "python",
   "pygments_lexer": "ipython3",
   "version": "3.11.7"
  }
 },
 "nbformat": 4,
 "nbformat_minor": 5
}
